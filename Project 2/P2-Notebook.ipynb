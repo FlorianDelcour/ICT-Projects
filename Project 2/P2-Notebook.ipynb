{
 "cells": [
  {
   "cell_type": "markdown",
   "metadata": {
    "deletable": false,
    "editable": false,
    "id": "j7kUOJkq0GUo"
   },
   "source": [
    "# Project 2 - Source coding, data compression and channel coding\n",
    "\n",
    "The goal of this second project is to apply some of the principles seen in the lectures about source coding, data compression and channel coding. We ask you to write a brief report (pdf format) collecting your answers to the different questions. All codes must be written in Python inside this Jupyter. Note that you can not change the content of locked cells or import any extra Python library than the ones already imported (numpy)."
   ]
  },
  {
   "cell_type": "markdown",
   "metadata": {
    "deletable": false,
    "editable": false,
    "id": "Ztp8uLg40GUt"
   },
   "source": [
    "## Implementation\n",
    "\n",
    "In this project, you will need to use implement source coding algorithms to answer several questions. Therefore, in this first part, you are asked to write several functions that implement two of the  algorithms seen in the theoretical lectures and one new algorithm described in the project statement. Remember that you need to fill in this Jupyter Notebook to answer these questions. Pay particular attention to the required input and output format of each function."
   ]
  },
  {
   "cell_type": "code",
   "execution_count": 1,
   "metadata": {
    "deletable": false,
    "editable": false,
    "id": "Hj-l1-GY0GUu"
   },
   "outputs": [],
   "source": [
    "# [Locked Cell] You can not import any extra Python library in this Notebook.\n",
    "import numpy as np"
   ]
  },
  {
   "cell_type": "markdown",
   "metadata": {
    "deletable": false,
    "editable": false,
    "id": "B8U7YQaO0GUv"
   },
   "source": [
    "### Question 1\n",
    "Implement a function that returns a binary Huffman code for a given probability distribution. Give the main steps of your implementation. Verify your code on Exercise 7 of the second exercise session (TP2), and report the output of your code for this example. Explain how to extend your function to generate a Huffman code of any (output) alphabet size. \n"
   ]
  },
  {
   "cell_type": "code",
   "execution_count": 2,
   "metadata": {
    "id": "Ale82t7g0GUw"
   },
   "outputs": [],
   "source": [
    "def Huffman_code(probability_dict):\n",
    "    \"\"\"\n",
    "    Create the Huffman code for given probabilities  \n",
    "    \n",
    "    Arguments:\n",
    "    ----------\n",
    "    probability_dict:\n",
    "      - keys: symbol as character or string\n",
    "      - values: probability of the symbol as a float or double\n",
    "      Example: {\"A\": 0.25, \"B\":0.5,\"C\":0.125,\"D\":0.125}\n",
    "    \n",
    "    Return:\n",
    "    -------\n",
    "    - codewords: dictionary with the name and the corresponding codeword \n",
    "      - keys: symbol as character or string\n",
    "      - values: associated codeword as a character or a string    \n",
    "      Example: {\"A\": \"10\", \"B\":\"0\",\"C\":\"111\",\"D\":\"110\"}\n",
    "    \n",
    "    \"\"\"  \n",
    "    nodes = []\n",
    "    for symbol in probability_dict.keys():\n",
    "      nodes.append(Node(probability_dict[symbol], symbol))\n",
    "    \n",
    "    while len(nodes) > 1:\n",
    "      nodes = sorted(nodes, key=lambda node: node.proba)\n",
    "      \n",
    "      left = nodes[0]\n",
    "      left.code = 0\n",
    "      right = nodes[1] \n",
    "      right.code = 1\n",
    "\n",
    "      merged_node = Node(left.proba+right.proba, '', left, right)\n",
    "      nodes.append(merged_node)\n",
    "      nodes.remove(left)\n",
    "      nodes.remove(right)\n",
    "      \n",
    "    return Huffman_tree(dict(), nodes[0])\n"
   ]
  },
  {
   "cell_type": "code",
   "execution_count": 3,
   "metadata": {},
   "outputs": [],
   "source": [
    "class Node:\n",
    "    def __init__(self, proba, symbol, left=None, right=None):\n",
    "        self.proba = proba\n",
    "        self.symbol = symbol\n",
    "        self.left = left\n",
    "        self.right = right\n",
    "        self.code = ''"
   ]
  },
  {
   "cell_type": "code",
   "execution_count": 4,
   "metadata": {},
   "outputs": [],
   "source": [
    "def Huffman_tree(codes, node, value=''):\n",
    "    \"\"\"\n",
    "    Assigns '0' or '1' to each branch of the Huffman_tree\n",
    "    and assigns0 symbol to leaves of the tree.\n",
    "     \n",
    "    Arguments:\n",
    "    ----------\n",
    "    codes: 'empty at the beginning'\n",
    "      - keys: symbol as character or string\n",
    "      - values: associated codeword as a character or a string    \n",
    "      Example: {\"A\": \"10\", \"B\":\"0\",\"C\":\"111\",\"D\":\"110\"}\n",
    "    nodes: current node of the tree\n",
    "    value: code of the path leading to the current node\n",
    "    \n",
    "    Return:\n",
    "    -------\n",
    "    - codes: dictionary with the name and the corresponding codeword \n",
    "      - keys: symbol as character or string\n",
    "      - values: associated codeword as a character or a string    \n",
    "      Example: {\"A\": \"10\", \"B\":\"0\",\"C\":\"111\",\"D\":\"110\"}\n",
    "    \n",
    "    \"\"\"\n",
    "    new_val = value + str(node.code)\n",
    "    if node.left:\n",
    "        Huffman_tree(codes, node.left, new_val)\n",
    "    if node.right:\n",
    "        Huffman_tree(codes, node.right, new_val)\n",
    "    if (not node.left) and (not node.right):\n",
    "        codes[node.symbol] = new_val\n",
    "    return codes"
   ]
  },
  {
   "cell_type": "code",
   "execution_count": 7,
   "metadata": {},
   "outputs": [
    {
     "name": "stdout",
     "output_type": "stream",
     "text": [
      "Huffman code of TP2 Exercise 7 is :\n",
      "{'A': '000', 'B': '001', 'E': '01', 'C': '100', 'D': '101', 'F': '11'}\n"
     ]
    }
   ],
   "source": [
    "ex7_dict = dict({'A':0.05, 'B':0.10, 'C':0.15, 'D':0.15, 'E':0.20, 'F':0.35})\n",
    "print(\"Huffman code of TP2 Exercise 7 is :\")\n",
    "print(Huffman_code(ex7_dict))"
   ]
  },
  {
   "cell_type": "markdown",
   "metadata": {
    "deletable": false,
    "editable": false,
    "id": "_KjzF5nZ0GUw"
   },
   "source": [
    "### Question 2\n",
    "\n",
    "Given a sequence of symbols, implement a function that returns a dictionary and the encoded sequence using the on-line Lempel-Ziv algorithm (see State of the art in data compression, slide 50/53). Reproduce and report the example given in the course. "
   ]
  },
  {
   "cell_type": "code",
   "execution_count": 5,
   "metadata": {
    "id": "dxyFyrmh0GUx"
   },
   "outputs": [],
   "source": [
    "\n",
    "def LZ_online(sequence):\n",
    "    \"\"\"\n",
    "    The on-line Lempel-Ziv algorithm given a sequence of symbols  \n",
    "    Arguments:\n",
    "    ----------\n",
    "    - sequence : Sequence of symbols in the string format\n",
    "    \n",
    "    Return:\n",
    "    -------\n",
    "    - dictionary : the computed dictionnary in the form:\n",
    "        - keys: symbol as character or string\n",
    "        - values: associated codeword as a tuple composed of the entry index (integer) and a binarized adress with one appended symbol (character or string)\n",
    "        Example: {'': (0, ''), '0': (1, '0'), '1': (2, '01'), '00': (3, '010'), '10': (4, '100')}\n",
    "    - U : the encoded sequence in the string format\n",
    "    \"\"\"\n",
    "    dictionary = dict({'':(0,'')})\n",
    "    U = ''\n",
    "    current_s = ''\n",
    "    ind = 0\n",
    "    for s in sequence:\n",
    "        current_s = current_s + s\n",
    "        if not current_s in dictionary:\n",
    "            ind += 1\n",
    "            if ind == 1:\n",
    "                U = U + current_s\n",
    "                dictionary[current_s] = (ind, current_s)\n",
    "            else:\n",
    "                prefix = current_s[:-1]\n",
    "                address = dictionary[prefix][0] \n",
    "                dict_size = int(np.ceil(np.log2(ind)))\n",
    "                coded_word = np.binary_repr(address, width=dict_size) + current_s[-1]\n",
    "                dictionary[current_s] = (ind, coded_word)\n",
    "                U += coded_word\n",
    "            current_s = ''\n",
    "    return dictionary, U"
   ]
  },
  {
   "cell_type": "code",
   "execution_count": 6,
   "metadata": {},
   "outputs": [
    {
     "name": "stdout",
     "output_type": "stream",
     "text": [
      "Source sequence : '1011010100010'\n",
      "---------------------------------DICTIONARY---------------------------------\n",
      "Symbol (key):            Value -> Entry index: 0         Binarized address+bit:         \n",
      "Symbol (key): 1          Value -> Entry index: 1         Binarized address+bit: 1       \n",
      "Symbol (key): 0          Value -> Entry index: 2         Binarized address+bit: 00      \n",
      "Symbol (key): 11         Value -> Entry index: 3         Binarized address+bit: 011     \n",
      "Symbol (key): 01         Value -> Entry index: 4         Binarized address+bit: 101     \n",
      "Symbol (key): 010        Value -> Entry index: 5         Binarized address+bit: 1000    \n",
      "Symbol (key): 00         Value -> Entry index: 6         Binarized address+bit: 0100    \n",
      "Symbol (key): 10         Value -> Entry index: 7         Binarized address+bit: 0010    \n",
      "----------------------------------------------------------------------------\n",
      "Encoded sequence (LZ-Online) :  100011101100001000010\n"
     ]
    }
   ],
   "source": [
    "dictio, U = LZ_online('1011010100010')\n",
    "print(\"Source sequence : '1011010100010'\", )\n",
    "print(\"---------------------------------DICTIONARY---------------------------------\")\n",
    "for key in dictio.keys():\n",
    "    print(\"Symbol (key): \" + f\"{key:<10} \" + \"Value -> Entry index: \" + f\"{str(dictio[key][0]):<10}\" + \n",
    "                \"Binarized address+bit: \" + f\"{dictio[key][1] :<8}\")\n",
    "print(\"----------------------------------------------------------------------------\")\n",
    "print(\"Encoded sequence (LZ-Online) : \", U)"
   ]
  },
  {
   "cell_type": "markdown",
   "metadata": {
    "deletable": false,
    "editable": false,
    "id": "UG7cwbf50GUx"
   },
   "source": [
    "### Question 4\n",
    "\n",
    "Implement a function that returns the encoded sequence using the LZ77 algorithm as described by the algorithm below given an input string and a sliding window size l. Reproduce the example given in Figure 2 with window_size=7."
   ]
  },
  {
   "cell_type": "code",
   "execution_count": 8,
   "metadata": {
    "id": "aHoBHPcL0GUy"
   },
   "outputs": [],
   "source": [
    "def LZ77(sequence, window_size=7):\n",
    "    \"\"\"\n",
    "    The Lempel-Ziv 77 algorithm given a sequence of symbols and the sliding window size\n",
    "    \n",
    "    Arguments:\n",
    "    ----------\n",
    "    - sequence : Sequence of symbols in the string format\n",
    "    - window_size : sliding window size as an integer\n",
    "    \n",
    "    Return:\n",
    "    -------\n",
    "    - U : the encoded sequence in the string format\n",
    "    \"\"\"\n",
    "    U = \"\"\n",
    "    window = \"\"\n",
    "    while sequence: \n",
    "        pref = find_longest_prefix(sequence, window)\n",
    "        if pref:\n",
    "            d = pref[0]; p = pref[1]; c = pref[2]\n",
    "        else:\n",
    "            d = 0; p = 0; c = sequence[0]\n",
    "        U += str(d) + str(p) + c\n",
    "\n",
    "        if (len(window) + p + 1) <= window_size:\n",
    "            window = window + sequence[0:p+1]\n",
    "        else:\n",
    "            if p == window_size:\n",
    "                window = sequence[1:p+1]\n",
    "            else:\n",
    "                window = window[p+1:] + sequence[0:p+1]\n",
    "        sequence = sequence[p+1:]\n",
    "\n",
    "    return U\n"
   ]
  },
  {
   "cell_type": "code",
   "execution_count": 9,
   "metadata": {},
   "outputs": [],
   "source": [
    "def find_longest_prefix(sequence, window):\n",
    "    \"\"\"\n",
    "    Find the longuest prefix of sequence in a given window\n",
    "    \n",
    "    Arguments:\n",
    "    ----------\n",
    "    - sequence : Sequence of symbols in the string format\n",
    "    - window : Sequence of symbols in the string format representing the window\n",
    "    \n",
    "    Return:\n",
    "    -------\n",
    "    - (d, p, c) if any prefix of sequence in window :\n",
    "        -> d = distance to the start of the prefix\n",
    "        -> p = length of the prefix\n",
    "        -> c = char following the prefix in input\n",
    "    \"\"\"\n",
    "    prefix = \"\"\n",
    "    seq_size = len(sequence)\n",
    "    window_size = len(window)\n",
    "\n",
    "    if window_size == 0:\n",
    "        return None\n",
    "    for i in range(window_size):\n",
    "        current_pref = \"\"\n",
    "        current_d = window_size-i\n",
    "\n",
    "        for j in range(seq_size):\n",
    "            if (i+j < window_size) and (window[i+j] == sequence[j]):\n",
    "                current_pref += sequence[j]\n",
    "            else:\n",
    "                break\n",
    "        \n",
    "        current_p = len(current_pref)\n",
    "        if current_p == seq_size:\n",
    "            current_c = ''\n",
    "        else:\n",
    "            current_c = sequence[current_p]\n",
    "\n",
    "        if (len(prefix) <= current_p) and (current_p != 0):\n",
    "            prefix = current_pref\n",
    "            d = current_d\n",
    "            p = current_p\n",
    "            c = current_c\n",
    "\n",
    "    if len(prefix) == 0:\n",
    "        return None\n",
    "    else:\n",
    "        return (d,p,c)"
   ]
  },
  {
   "cell_type": "code",
   "execution_count": 10,
   "metadata": {},
   "outputs": [
    {
     "name": "stdout",
     "output_type": "stream",
     "text": [
      "Source sequence : abracadabrad\n",
      "Encoded sequence (LZ77) :  00a00b00r31c21d74d\n"
     ]
    }
   ],
   "source": [
    "U = LZ77(\"abracadabrad\")\n",
    "print(\"Source sequence : abracadabrad\")\n",
    "print(\"Encoded sequence (LZ77) : \", U)"
   ]
  },
  {
   "cell_type": "code",
   "execution_count": 11,
   "metadata": {
    "deletable": false,
    "editable": false,
    "id": "EG1vVgUg0GUz"
   },
   "outputs": [],
   "source": [
    "# [Locked Cell] Evaluation of your functions by the examiner. \n",
    "# You don't have access to the evaluation, this will be done by the examiner.\n",
    "# Therefore, this cell will return nothing for the students.\n",
    "import os\n",
    "if os.path.isfile(\"private_evaluation.py\"):\n",
    "    from private_evaluation import unit_tests\n",
    "    unit_tests(Huffman_code, LZ_online, LZ77)"
   ]
  },
  {
   "cell_type": "markdown",
   "metadata": {
    "deletable": false,
    "editable": false,
    "id": "znaBCYTG0GU0"
   },
   "source": [
    "## Source coding and reversible (lossless) data compression\n"
   ]
  },
  {
   "cell_type": "markdown",
   "metadata": {},
   "source": [
    "### Question 5\n",
    "\n",
    "Estimate the marginal probability distribution of all symbols (.,-,_,/) from the given\n",
    "Morse text, and determine the corresponding binary Huffman code and the encoded\n",
    "Morse text. Give the total length of the encoded Morse text and the compression\n",
    "rate."
   ]
  },
  {
   "cell_type": "code",
   "execution_count": 12,
   "metadata": {},
   "outputs": [],
   "source": [
    "morse = open('./data/morse.txt', 'r').read()\n",
    "# Get the number of occurence of each symbol\n",
    "dict_prob = {i : morse.count(i) for i in set(morse)}"
   ]
  },
  {
   "cell_type": "code",
   "execution_count": 13,
   "metadata": {},
   "outputs": [
    {
     "name": "stdout",
     "output_type": "stream",
     "text": [
      "Probability distribution of morse symbols :\n",
      "Symbol: _    Probability : 0.2145\n",
      "Symbol: -    Probability : 0.2871\n",
      "Symbol: /    Probability : 0.0646\n",
      "Symbol: .    Probability : 0.4338\n"
     ]
    }
   ],
   "source": [
    "# Marginal probability distribution of all symbols\n",
    "total = sum(dict_prob.values())\n",
    "for key in dict_prob.keys():\n",
    "    dict_prob[key] /= total\n",
    "print(\"Probability distribution of morse symbols :\")\n",
    "for key in dict_prob.keys():\n",
    "    print(\"Symbol: \" + f\"{key:<5}\" + \"Probability : {:.4f}\" .format(dict_prob[key]))"
   ]
  },
  {
   "cell_type": "code",
   "execution_count": 14,
   "metadata": {},
   "outputs": [
    {
     "name": "stdout",
     "output_type": "stream",
     "text": [
      "Binary Huffman code associated to morse symbols :\n",
      "{'.': '0', '/': '100', '_': '101', '-': '11'}\n"
     ]
    }
   ],
   "source": [
    "# Binary Huffman code associated to morse symbols\n",
    "print(\"Binary Huffman code associated to morse symbols :\")\n",
    "huff_code = Huffman_code(dict_prob)\n",
    "print(huff_code)"
   ]
  },
  {
   "cell_type": "code",
   "execution_count": 15,
   "metadata": {},
   "outputs": [
    {
     "name": "stdout",
     "output_type": "stream",
     "text": [
      "Length of encoded morse text:  2213141\n",
      "Compression rate (Huffman): 1.0838\n"
     ]
    }
   ],
   "source": [
    "# Encoded morse text using binary Huffman code\n",
    "encoded_morse = ''\n",
    " \n",
    "for s in morse:\n",
    "    encoded_morse = encoded_morse + str(huff_code[s])\n",
    "print(\"Length of encoded morse text: \", len(encoded_morse))\n",
    "compression_rate = len(morse)/len(encoded_morse) * np.log2(len(set(morse)))/np.log2(len(set(encoded_morse)))\n",
    "print(\"Compression rate (Huffman): {:.4f}\" .format(compression_rate))"
   ]
  },
  {
   "cell_type": "markdown",
   "metadata": {},
   "source": [
    "### Question 6\n",
    "\n",
    "Give the expected average length for your Huffman code. Compare this value with\n",
    "(a) the empirical average length, and (b) theoretical bound(s). Justify."
   ]
  },
  {
   "cell_type": "code",
   "execution_count": 16,
   "metadata": {},
   "outputs": [
    {
     "name": "stdout",
     "output_type": "stream",
     "text": [
      "Expected average length of Huffman code: 1.84538\n"
     ]
    }
   ],
   "source": [
    "# Expected average length\n",
    "huff_avg_len = 0\n",
    "for key in dict_prob:\n",
    "    huff_avg_len += dict_prob[key] * len(huff_code[key])\n",
    "print(\"Expected average length of Huffman code: {:.5f}\" .format(huff_avg_len))"
   ]
  },
  {
   "cell_type": "code",
   "execution_count": 17,
   "metadata": {},
   "outputs": [
    {
     "name": "stdout",
     "output_type": "stream",
     "text": [
      "Empirical average length of Huffman code: 1.84538\n"
     ]
    }
   ],
   "source": [
    "# Empirical average length\n",
    "huff_emp_avg_len = len(encoded_morse)/len(morse)\n",
    "print(\"Empirical average length of Huffman code: {:.5f}\" .format(huff_emp_avg_len))\n"
   ]
  },
  {
   "cell_type": "code",
   "execution_count": 18,
   "metadata": {},
   "outputs": [],
   "source": [
    "# Entropy useful for theoretical bounds computation\n",
    "def entropy(Px):\n",
    "    \"\"\"\n",
    "    Computes the entropy from the marginal probability distribution. \n",
    "    Arguments:\n",
    "    ----------\n",
    "    - Px :  Marginal probability distribution of the random \n",
    "            variable X in a numpy array where Px[i]=P(X=i)\n",
    "    Return:\n",
    "    -------\n",
    "    - The entropy of X (H(X)) as a number (integer, float or double).\n",
    "    \"\"\"\n",
    "    return - Px @ np.log2(Px, where=(Px!=0)) # Px must be a numpy array otherwise the `where` argument in np.log2 won't correctly work"
   ]
  },
  {
   "cell_type": "code",
   "execution_count": 19,
   "metadata": {},
   "outputs": [
    {
     "name": "stdout",
     "output_type": "stream",
     "text": [
      "Theoretical bounds : [1.771, 2.771]\n"
     ]
    }
   ],
   "source": [
    "# Theoretical bounds\n",
    "Px = np.array(list(dict_prob.values()))\n",
    "H_S = entropy(Px)\n",
    "left_bound = H_S/np.log2(len(set(encoded_morse)))\n",
    "right_bound = left_bound + 1\n",
    "print(\"Theoretical bounds : [{:.3f}, {:.3f}]\" .format(left_bound, right_bound))"
   ]
  },
  {
   "cell_type": "markdown",
   "metadata": {},
   "source": [
    "### Question 7 \n",
    "\n",
    "Plot the evolution of the empirical average length of the encoded morse using your\n",
    "Huffman code for increasing input text lengths."
   ]
  },
  {
   "cell_type": "code",
   "execution_count": 20,
   "metadata": {},
   "outputs": [
    {
     "data": {
      "image/png": "[encoded data removed]",
      "text/plain": [
       "<Figure size 648x432 with 1 Axes>"
      ]
     },
     "metadata": {
      "needs_background": "light"
     },
     "output_type": "display_data"
    }
   ],
   "source": [
    "import matplotlib.pyplot as plt\n",
    "\n",
    "input_lengths = [10**i for i in range(6)]\n",
    "emp_lengths = np.zeros(len(input_lengths))\n",
    "\n",
    "for i in range(len(input_lengths)):\n",
    "    text = morse[:input_lengths[i]]\n",
    "    dict_prob = {i : text.count(i) for i in set(text)}\n",
    "    total = sum(dict_prob.values())\n",
    "    for key in dict_prob.keys():\n",
    "      dict_prob[key] /= total\n",
    "    huff_code = Huffman_code(dict_prob)\n",
    "\n",
    "    encoded_morse = ''\n",
    "    for s in text:\n",
    "        encoded_morse = encoded_morse + str(huff_code[s])\n",
    "    emp_lengths[i] = len(encoded_morse)/len(text)\n",
    "    \n",
    "plt.figure(figsize=(9,6))\n",
    "plt.plot(input_lengths,emp_lengths)\n",
    "plt.axhline(y=huff_emp_avg_len, linestyle='dashed', color='r')\n",
    "plt.text(2,huff_emp_avg_len-0.07,\"{:.5f}\" .format(huff_emp_avg_len), color='r')\n",
    "plt.xlabel('Input morse lengths')\n",
    "plt.ylabel('Empirical average length (Huffman code)')\n",
    "plt.xscale('log')\n",
    "    "
   ]
  },
  {
   "cell_type": "markdown",
   "metadata": {},
   "source": [
    "### Question 8 \n",
    "\n",
    "Encode the morse code using the on-line Lempel-Ziv algorithm. Give the total length\n",
    "of the encoded code and the compression rate."
   ]
  },
  {
   "cell_type": "code",
   "execution_count": 21,
   "metadata": {},
   "outputs": [
    {
     "name": "stdout",
     "output_type": "stream",
     "text": [
      "Length of LZ on-line encoded morse:  1622705\n",
      "Compression rate (LZ on-line): 1.4781\n"
     ]
    }
   ],
   "source": [
    "LZ_on_dict, U_LZ_on = LZ_online(morse)\n",
    "\n",
    "# Occurence of each symbol in the encoded sequence\n",
    "occ_dict = {i : U_LZ_on.count(i) for i in set(U_LZ_on)}\n",
    "\n",
    "# Compute cardinalities of morse symbol and binary symbol and multiply it by log2(alphabet_size)\n",
    "card_morse_symb = sum(occ_dict[key] for key in set(morse)) * np.log2(len(set(morse)))\n",
    "card_binary_symb = sum(occ_dict[key] for key in set(U_LZ_on)-set(morse)) * np.log2(len(set(U_LZ_on)-set(morse)))\n",
    "LZ_on_encoded_len = int(card_morse_symb + card_binary_symb)\n",
    "print(\"Length of LZ on-line encoded morse: \", LZ_on_encoded_len)\n",
    "\n",
    "LZ_on_compression_rate = len(morse)/LZ_on_encoded_len * np.log2(len(set(morse)))\n",
    "print(\"Compression rate (LZ on-line): {:.4f}\" .format(LZ_on_compression_rate))"
   ]
  },
  {
   "cell_type": "markdown",
   "metadata": {},
   "source": [
    "### Question 9 \n",
    "\n",
    "Encode the text using the LZ77 algorithm with window_size=7. Give the total length\n",
    "of the encoded text and the compression rate."
   ]
  },
  {
   "cell_type": "code",
   "execution_count": 216,
   "metadata": {},
   "outputs": [
    {
     "name": "stdout",
     "output_type": "stream",
     "text": [
      "Length of LZ77 encoded morse:  3711926.0\n",
      "Compression rate (LZ77): 0.6462\n"
     ]
    }
   ],
   "source": [
    "window_size = 7\n",
    "U_LZ77 = LZ77(morse, window_size)\n",
    "\n",
    "# Occurence of each symbol in the encoded sequence\n",
    "occ_dict = {i : U_LZ77.count(i) for i in set(U_LZ77)}\n",
    "\n",
    "# Compute cardinalities of morse symbol and addresses symbol \n",
    "# and multiply it by log2(morse_size) for morse symbols and by log2(window_size) for addresses bits\n",
    "card_morse_symb = sum(occ_dict[key] for key in set(morse)) * np.log2(len(set(morse)))\n",
    "card_address_symb = sum(occ_dict[key] for key in set(U_LZ77)-set(morse)) * np.log2(window_size+1)\n",
    "LZ77_encoded_len = card_morse_symb + card_address_symb\n",
    "print(\"Length of LZ77 encoded morse: \", LZ77_encoded_len)\n",
    "\n",
    "LZ77_compression_rate = len(morse)/LZ77_encoded_len * np.log2(len(set(morse)))\n",
    "print(\"Compression rate (LZ77): {:.4f}\" .format(LZ77_compression_rate))"
   ]
  },
  {
   "cell_type": "markdown",
   "metadata": {},
   "source": [
    "### Question 11\n",
    "\n",
    "Encode the morse using one of the combinations of LZ77 and Huffman algorithms\n",
    "you proposed in the previous question. Give the total length of the encoded morse\n",
    "text and the compression rate."
   ]
  },
  {
   "cell_type": "code",
   "execution_count": 24,
   "metadata": {},
   "outputs": [],
   "source": [
    "def LZ77_Huffman(sequence, window_size):\n",
    "    \"\"\"\n",
    "    Combination of LZ77 and Huffman algorithms to encode a given sequence.\n",
    "    \n",
    "    Arguments:\n",
    "    ----------\n",
    "    - sequence : Sequence of symbols in the string format\n",
    "    - window_size : sliding window size as an integer\n",
    "    \n",
    "    Return:\n",
    "    -------\n",
    "    - LZ77_huff_encoded : the encoded sequence in the string format\n",
    "    - LZ77_encoded_len : the length of the encoded sequence in bits\n",
    "    - LZ77_huff_comp_rate : the compression rate between the length \n",
    "                    of the encoded sequence and the length of sequence \n",
    "    \"\"\"\n",
    "    U_LZ77 = LZ77(sequence, window_size)\n",
    "    LZ77_occ_char = {i : U_LZ77.count(i) for i in set(U_LZ77)-set(list(map(str, range(window_size+1))))}\n",
    "    total = sum(LZ77_occ_char.values())\n",
    "    for key in LZ77_occ_char.keys():\n",
    "        LZ77_occ_char[key] /= total\n",
    "    LZ77_huff_code = Huffman_code(LZ77_occ_char)\n",
    "    LZ77_huff_encoded = ''\n",
    "    card_huff_symb = 0\n",
    "    card_address_symb = 0\n",
    "    for s in U_LZ77:\n",
    "        if s in LZ77_huff_code:\n",
    "            LZ77_huff_encoded += str(LZ77_huff_code[s])\n",
    "            card_huff_symb += len(str(LZ77_huff_code[s]))\n",
    "        else:\n",
    "            LZ77_huff_encoded += s\n",
    "            card_address_symb += 1\n",
    "            \n",
    "    card_huff_symb *= np.log2(2)\n",
    "    card_address_symb *= np.log2(window_size+1)\n",
    "    LZ77_encoded_len = card_huff_symb + card_address_symb\n",
    "\n",
    "    LZ77_huff_comp_rate = len(sequence)/LZ77_encoded_len * np.log2(len(set(sequence)))\n",
    "    return LZ77_huff_encoded, LZ77_encoded_len, LZ77_huff_comp_rate"
   ]
  },
  {
   "cell_type": "code",
   "execution_count": 25,
   "metadata": {},
   "outputs": [
    {
     "name": "stdout",
     "output_type": "stream",
     "text": [
      "Length of LZ77-Huffman encoded morse:  3711926.0\n",
      "Compression rate (LZ77-Huffman): 0.6462\n"
     ]
    }
   ],
   "source": [
    "LZ77_huff_encoded, LZ77_encoded_len, LZ77_huff_comp_rate = LZ77_Huffman(morse, 7)\n",
    "print(\"Length of LZ77-Huffman encoded morse: \", LZ77_encoded_len)\n",
    "print(\"Compression rate (LZ77-Huffman): {:.4f}\" .format(LZ77_huff_comp_rate))"
   ]
  },
  {
   "cell_type": "markdown",
   "metadata": {},
   "source": [
    "### Question 12\n",
    "\n",
    "Report the total lengths and compression rates using (a) LZ77 and (b) the\n",
    "combination of LZ77 and Huffman, to encode the morse code for different values of\n",
    "the sliding window size (use sliding window sizes from 1 to 11000 with a step of\n",
    "1000). Compare your result with the total length and compression rate obtained using\n",
    "the on-line Lempel-Ziv algorithm. Discuss your results."
   ]
  },
  {
   "cell_type": "code",
   "execution_count": 27,
   "metadata": {},
   "outputs": [
    {
     "name": "stderr",
     "output_type": "stream",
     "text": [
      "100%|██████████| 11/11 [2:35:09<00:00, 846.30s/it] \n"
     ]
    }
   ],
   "source": [
    "from tqdm import tqdm\n",
    "window_sizes = range(1, 11000, 1000)\n",
    "LZ77_lengths = np.zeros(len(window_sizes))\n",
    "LZ77_comp = np.zeros(len(window_sizes))\n",
    "LZ77_Huff_lengths = np.zeros(len(window_sizes))\n",
    "LZ77_Huff_comp = np.zeros(len(window_sizes))\n",
    "\n",
    "for i in tqdm(range(len(window_sizes))):\n",
    "    w_size = window_sizes[i]\n",
    "\n",
    "    ########\n",
    "    # LZ77 #\n",
    "    ########\n",
    "    U_LZ77 = LZ77(morse, w_size)\n",
    "    # Compute LZ77 compression rate\n",
    "    occ_dict = {i : U_LZ77.count(i) for i in set(U_LZ77)}\n",
    "    card_morse_symb = sum(occ_dict[key] for key in set(morse)) * np.log2(len(set(morse)))\n",
    "    card_address_symb = sum(occ_dict[key] for key in set(U_LZ77)-set(morse)) * np.log2(len(set(U_LZ77)-set(morse)))\n",
    "    LZ77_encoded_len = card_morse_symb + card_address_symb\n",
    "    LZ77_lengths[i] = LZ77_encoded_len\n",
    "    LZ77_comp[i] = len(morse)/LZ77_encoded_len * np.log2(len(set(morse)))\n",
    "\n",
    "    ################\n",
    "    # LZ77-Huffman #\n",
    "    ################\n",
    "    _, LZ77_Huff_lengths[i], LZ77_Huff_comp[i] = LZ77_Huffman(morse, w_size)"
   ]
  },
  {
   "cell_type": "code",
   "execution_count": 28,
   "metadata": {},
   "outputs": [
    {
     "data": {
      "text/plain": [
       "Text(0, 0.5, 'Total length')"
      ]
     },
     "execution_count": 28,
     "metadata": {},
     "output_type": "execute_result"
    },
    {
     "data": {
      "image/png": "[encoded data removed]",
      "text/plain": [
       "<Figure size 648x432 with 1 Axes>"
      ]
     },
     "metadata": {
      "needs_background": "light"
     },
     "output_type": "display_data"
    }
   ],
   "source": [
    "import matplotlib.pyplot as plt\n",
    "\n",
    "plt.figure(figsize=(9,6))\n",
    "plt.plot(window_sizes, LZ77_lengths, label='LZ77')\n",
    "plt.plot(window_sizes, LZ77_Huff_lengths, label='LZ77-Huffman')\n",
    "plt.legend()\n",
    "plt.xlabel('Window sizes')\n",
    "plt.ylabel('Total length')"
   ]
  },
  {
   "cell_type": "code",
   "execution_count": 29,
   "metadata": {},
   "outputs": [
    {
     "data": {
      "text/plain": [
       "Text(0, 0.5, 'Compression rate')"
      ]
     },
     "execution_count": 29,
     "metadata": {},
     "output_type": "execute_result"
    },
    {
     "data": {
      "image/png": "[encoded data removed]",
      "text/plain": [
       "<Figure size 648x432 with 1 Axes>"
      ]
     },
     "metadata": {
      "needs_background": "light"
     },
     "output_type": "display_data"
    }
   ],
   "source": [
    "plt.figure(figsize=(9,6))\n",
    "plt.plot(window_sizes, LZ77_comp, label='LZ77')\n",
    "plt.plot(window_sizes, LZ77_Huff_comp, label='LZ77-Huffman')\n",
    "plt.legend()\n",
    "plt.xlabel('Window sizes')\n",
    "plt.ylabel('Compression rate')"
   ]
  },
  {
   "cell_type": "markdown",
   "metadata": {},
   "source": [
    "### Question 14\n",
    "\n",
    "Instead of encoding the Morse code, encode directly the original text (27 symbols)\n",
    "with the binary Huffman algorithm. Give the code for each symbol, the average\n",
    "expected length, the experimental length of the encoded text and the compression\n",
    "rate.\n",
    "\n"
   ]
  },
  {
   "cell_type": "code",
   "execution_count": 36,
   "metadata": {},
   "outputs": [
    {
     "name": "stdout",
     "output_type": "stream",
     "text": [
      "Binary Huffman code associated to original text symbols :\n",
      "Symbol:      Code: \n",
      "  ' '        111       \n",
      "  'a'        1010      \n",
      "  'b'        100000    \n",
      "  'c'        100010    \n",
      "  'd'        11010     \n",
      "  'e'        001       \n",
      "  'f'        100011    \n",
      "  'g'        00000     \n",
      "  'h'        0111      \n",
      "  'i'        0100      \n",
      "  'j'        1100111001\n",
      "  'k'        1100110   \n",
      "  'l'        11000     \n",
      "  'm'        110010    \n",
      "  'n'        0110      \n",
      "  'o'        1001      \n",
      "  'p'        100001    \n",
      "  'q'        1100111011\n",
      "  'r'        0101      \n",
      "  's'        0001      \n",
      "  't'        1011      \n",
      "  'u'        00001     \n",
      "  'v'        11001111  \n",
      "  'w'        110110    \n",
      "  'x'        1100111010\n",
      "  'y'        110111    \n",
      "  'z'        1100111000\n"
     ]
    }
   ],
   "source": [
    "text = open('data/text.txt', 'r').read()\n",
    "# Get the number of occurence of each symbol\n",
    "dict_prob = {i : text.count(i) for i in set(text)}\n",
    "\n",
    "# Marginal probability distribution of all symbols\n",
    "total = sum(dict_prob.values())\n",
    "for key in dict_prob.keys():\n",
    "    dict_prob[key] /= total\n",
    "\n",
    "# Binary Huffman code associated to original symbols\n",
    "print(\"Binary Huffman code associated to original text symbols :\")\n",
    "huff_code = Huffman_code(dict_prob)\n",
    "print(\"Symbol: \"f\"{'':<5}\" + \"Code: \")\n",
    "for key in sorted(huff_code.keys()):\n",
    "    print(f\"{'':<2}\"+\"\\'\"+str(key)+\"\\'\" + f\"{'':<8}\"+ f\"{str(huff_code[key]):<10}\")"
   ]
  },
  {
   "cell_type": "code",
   "execution_count": 37,
   "metadata": {},
   "outputs": [
    {
     "name": "stdout",
     "output_type": "stream",
     "text": [
      "Expected average length of Huffman code: 4.15047\n",
      "Empirical average length of Huffman code: 4.15047\n",
      "Compression rate (original text and Huffman): 1.1456\n"
     ]
    }
   ],
   "source": [
    "# Encoded original text using binary Huffman code\n",
    "encoded_text = ''\n",
    " \n",
    "for s in text:\n",
    "    encoded_text = encoded_text + str(huff_code[s])\n",
    "\n",
    "# Expected average length\n",
    "huff_avg_len = 0\n",
    "for key in dict_prob:\n",
    "    huff_avg_len += dict_prob[key] * len(huff_code[key])\n",
    "print(\"Expected average length of Huffman code: {:.5f}\" .format(huff_avg_len))\n",
    "\n",
    "# Empirical average length\n",
    "huff_emp_avg_len = len(encoded_text)/len(text)\n",
    "print(\"Empirical average length of Huffman code: {:.5f}\" .format(huff_emp_avg_len))\n",
    "\n",
    "# Compression rate\n",
    "compression_rate = len(text)/len(encoded_text) * np.log2(len(set(text)))/np.log2(len(set(encoded_text)))\n",
    "print(\"Compression rate (original text and Huffman): {:.4f}\" .format(compression_rate))"
   ]
  },
  {
   "cell_type": "markdown",
   "metadata": {
    "id": "arr1rcE65c6K"
   },
   "source": [
    "## Channel coding"
   ]
  },
  {
   "cell_type": "markdown",
   "metadata": {},
   "source": [
    "### Question 16\n",
    "Implement a function to read the image and display the original image. Remember\n",
    "that the image should be read in grayscale (one channel per pixel)."
   ]
  },
  {
   "cell_type": "code",
   "execution_count": 31,
   "metadata": {
    "id": "ZLwLdqlh5qE5"
   },
   "outputs": [],
   "source": [
    "from PIL import Image\n",
    "\n",
    "def open_display_img(img_path, display=True):\n",
    "    \"\"\"\n",
    "    Open and display an image\n",
    "    \n",
    "    Arguments:\n",
    "    ----------\n",
    "    - img_path : Path to the image to open\n",
    "    - display : True to display the image, False otherwise. (default=True)\n",
    "    \n",
    "    Return:\n",
    "    -------\n",
    "    - img : PIL image\n",
    "    \"\"\"\n",
    "    img = Image.open(img_path).convert('L')\n",
    "    if display:\n",
    "        img.show()\n",
    "    return img"
   ]
  },
  {
   "cell_type": "markdown",
   "metadata": {},
   "source": [
    "### Question 17\n",
    "Encode the image signal using a fixed-length binary code. What is the appropriate\n",
    "number of bits? Justify."
   ]
  },
  {
   "cell_type": "code",
   "execution_count": 44,
   "metadata": {},
   "outputs": [
    {
     "name": "stdout",
     "output_type": "stream",
     "text": [
      "Width in pixels :  1984\n",
      "Height in pixels :  1116\n",
      "Number of pixels :  2214144\n",
      "Number of bits to encode the image :  17713152\n",
      "Binary representation of a single pixel: \n",
      "{'0': '00000000', '1': '00000001', '2': '00000010', '3': '00000011', '4': '00000100', '5': '00000101', '6': '00000110', '7': '00000111', '8': '00001000', '9': '00001001', '10': '00001010', '11': '00001011', '12': '00001100', '13': '00001101', '14': '00001110', '15': '00001111', '16': '00010000', '17': '00010001', '18': '00010010', '19': '00010011', '20': '00010100', '21': '00010101', '22': '00010110', '23': '00010111', '24': '00011000', '25': '00011001', '26': '00011010', '27': '00011011', '28': '00011100', '29': '00011101', '30': '00011110', '31': '00011111', '32': '00100000', '33': '00100001', '34': '00100010', '35': '00100011', '36': '00100100', '37': '00100101', '38': '00100110', '39': '00100111', '40': '00101000', '41': '00101001', '42': '00101010', '43': '00101011', '44': '00101100', '45': '00101101', '46': '00101110', '47': '00101111', '48': '00110000', '49': '00110001', '50': '00110010', '51': '00110011', '52': '00110100', '53': '00110101', '54': '00110110', '55': '00110111', '56': '00111000', '57': '00111001', '58': '00111010', '59': '00111011', '60': '00111100', '61': '00111101', '62': '00111110', '63': '00111111', '64': '01000000', '65': '01000001', '66': '01000010', '67': '01000011', '68': '01000100', '69': '01000101', '70': '01000110', '71': '01000111', '72': '01001000', '73': '01001001', '74': '01001010', '75': '01001011', '76': '01001100', '77': '01001101', '78': '01001110', '79': '01001111', '80': '01010000', '81': '01010001', '82': '01010010', '83': '01010011', '84': '01010100', '85': '01010101', '86': '01010110', '87': '01010111', '88': '01011000', '89': '01011001', '90': '01011010', '91': '01011011', '92': '01011100', '93': '01011101', '94': '01011110', '95': '01011111', '96': '01100000', '97': '01100001', '98': '01100010', '99': '01100011', '100': '01100100', '101': '01100101', '102': '01100110', '103': '01100111', '104': '01101000', '105': '01101001', '106': '01101010', '107': '01101011', '108': '01101100', '109': '01101101', '110': '01101110', '111': '01101111', '112': '01110000', '113': '01110001', '114': '01110010', '115': '01110011', '116': '01110100', '117': '01110101', '118': '01110110', '119': '01110111', '120': '01111000', '121': '01111001', '122': '01111010', '123': '01111011', '124': '01111100', '125': '01111101', '126': '01111110', '127': '01111111', '128': '10000000', '129': '10000001', '130': '10000010', '131': '10000011', '132': '10000100', '133': '10000101', '134': '10000110', '135': '10000111', '136': '10001000', '137': '10001001', '138': '10001010', '139': '10001011', '140': '10001100', '141': '10001101', '142': '10001110', '143': '10001111', '144': '10010000', '145': '10010001', '146': '10010010', '147': '10010011', '148': '10010100', '149': '10010101', '150': '10010110', '151': '10010111', '152': '10011000', '153': '10011001', '154': '10011010', '155': '10011011', '156': '10011100', '157': '10011101', '158': '10011110', '159': '10011111', '160': '10100000', '161': '10100001', '162': '10100010', '163': '10100011', '164': '10100100', '165': '10100101', '166': '10100110', '167': '10100111', '168': '10101000', '169': '10101001', '170': '10101010', '171': '10101011', '172': '10101100', '173': '10101101', '174': '10101110', '175': '10101111', '176': '10110000', '177': '10110001', '178': '10110010', '179': '10110011', '180': '10110100', '181': '10110101', '182': '10110110', '183': '10110111', '184': '10111000', '185': '10111001', '186': '10111010', '187': '10111011', '188': '10111100', '189': '10111101', '190': '10111110', '191': '10111111', '192': '11000000', '193': '11000001', '194': '11000010', '195': '11000011', '196': '11000100', '197': '11000101', '198': '11000110', '199': '11000111', '200': '11001000', '201': '11001001', '202': '11001010', '203': '11001011', '204': '11001100', '205': '11001101', '206': '11001110', '207': '11001111', '208': '11010000', '209': '11010001', '210': '11010010', '211': '11010011', '212': '11010100', '213': '11010101', '214': '11010110', '215': '11010111', '216': '11011000', '217': '11011001', '218': '11011010', '219': '11011011', '220': '11011100', '221': '11011101', '222': '11011110', '223': '11011111', '224': '11100000', '225': '11100001', '226': '11100010', '227': '11100011', '228': '11100100', '229': '11100101', '230': '11100110', '231': '11100111', '232': '11101000', '233': '11101001', '234': '11101010', '235': '11101011', '236': '11101100', '237': '11101101', '238': '11101110', '239': '11101111', '240': '11110000', '241': '11110001', '242': '11110010', '243': '11110011', '244': '11110100', '245': '11110101', '246': '11110110', '247': '11110111', '248': '11111000', '249': '11111001', '250': '11111010', '251': '11111011', '252': '11111100', '253': '11111101', '254': '11111110', '255': '11111111'}\n"
     ]
    }
   ],
   "source": [
    "import numpy as np\n",
    "\n",
    "img = open_display_img(img_path=\"./data/image.png\", display=True)\n",
    "w, h = img.size\n",
    "print(\"Width in pixels : \", w)\n",
    "print(\"Height in pixels : \", h)\n",
    "pixel_nb = w * h\n",
    "print(\"Number of pixels : \", pixel_nb)\n",
    "print(\"Number of bits to encode the image : \", pixel_nb*8)\n",
    "img_pixels = list(img.getdata())\n",
    "binary_code = {str(i):np.binary_repr(i, width=8) for i in range(256)}\n",
    "print(\"Binary representation of a single pixel: \")\n",
    "print(binary_code)\n",
    "\n"
   ]
  },
  {
   "cell_type": "markdown",
   "metadata": {},
   "source": [
    "### Question 18\n",
    "Simulate the channel effect on the binary image signal. Then decode the image\n",
    "signal and display the decoded image. What do you notice?"
   ]
  },
  {
   "cell_type": "code",
   "execution_count": 45,
   "metadata": {},
   "outputs": [],
   "source": [
    "p = 0.01\n",
    "\n",
    "def flip_bit(bit):\n",
    "    \"\"\"\n",
    "    Flip a binary bit\n",
    "    \n",
    "    Arguments:\n",
    "    ----------\n",
    "    - bit : string. Either '0' or '1'\n",
    "    \n",
    "    Return:\n",
    "    -------\n",
    "    - '1' if bit is '0' else '0'\n",
    "    \"\"\"\n",
    "    return '1' if bit == '0' else '0'\n",
    "\n",
    "def pixel_through_channel(pixel, dict, p):\n",
    "    \"\"\"\n",
    "    Make a pixel go through a channel with probability of error of p\n",
    "    \n",
    "    Arguments:\n",
    "    ----------\n",
    "    - pixel : grayscale value of the pixel (value between 0 and 255)\n",
    "    - dict : dictionary to convert the pixel into its binary code\n",
    "    - p : the probability of error of the channel\n",
    "    \n",
    "    Return:\n",
    "    -------\n",
    "    - the grayscale pixel value of the input pixel after the channel\n",
    "    \"\"\"\n",
    "    binary_pixel = dict[str(pixel)]\n",
    "    result_after_channel = \"\"\n",
    "    for bit in binary_pixel:\n",
    "        result_after_channel += flip_bit(bit) if np.random.random(1)[0] < p else bit\n",
    "    for key in dict:\n",
    "        if dict[key] == result_after_channel:\n",
    "            return int(key)\n",
    "    return result_after_channel\n",
    "\n",
    "image_received = []\n",
    "for pixel in img_pixels:\n",
    "    image_received.append(pixel_through_channel(pixel = str(pixel), dict=binary_code, p=p))\n",
    "image_received = np.asarray(image_received)\n",
    "image_received = np.reshape(image_received, (h, w))\n",
    "image_received = Image.fromarray(image_received)\n",
    "image_received.show()\n",
    "if image_received.mode != 'L':\n",
    "    image_received = image_received.convert('L')\n",
    "image_received.save(\"image_Q18.png\")\n",
    "    "
   ]
  },
  {
   "cell_type": "markdown",
   "metadata": {},
   "source": [
    "### Question 19\n",
    "Instead of sending directly through the channel the binary image signal, you will first\n",
    "introduce some redundancy. To do that, implement a function that returns the\n",
    "Hamming (7,4) code for a given sequence of binary symbols. Then, using your\n",
    "function, encode the binary image signal (from question 16)."
   ]
  },
  {
   "cell_type": "code",
   "execution_count": 46,
   "metadata": {},
   "outputs": [],
   "source": [
    "def hamming_7_4(pixel, dict):\n",
    "    \"\"\"\n",
    "    Compute the Hamming (7,4) code of a pixel\n",
    "    \n",
    "    Arguments:\n",
    "    ----------\n",
    "    - pixel : grayscale value of the pixel (value between 0 and 255)\n",
    "    - dict : dictionary to convert the pixel into its binary code\n",
    "    \n",
    "    Return:\n",
    "    -------\n",
    "    - the Hamming (7,4) code of the input pixel\n",
    "    \"\"\"\n",
    "    \n",
    "    pixel_binary = dict[str(pixel)]\n",
    "    new_seq = pixel_binary[:4]\n",
    "    new_seq += str((int(pixel_binary[0]) + int(pixel_binary[1]) + int(pixel_binary[2]))%2)\n",
    "    new_seq += str((int(pixel_binary[1]) + int(pixel_binary[2]) + int(pixel_binary[3]))%2)\n",
    "    new_seq += str((int(pixel_binary[0]) + int(pixel_binary[2]) + int(pixel_binary[3]))%2)\n",
    "\n",
    "    new_seq += pixel_binary[4:]\n",
    "    new_seq += str((int(pixel_binary[4]) + int(pixel_binary[5]) + int(pixel_binary[6]))%2)\n",
    "    new_seq += str((int(pixel_binary[5]) + int(pixel_binary[6]) + int(pixel_binary[7]))%2)\n",
    "    new_seq += str((int(pixel_binary[4]) + int(pixel_binary[6]) + int(pixel_binary[7]))%2)\n",
    "\n",
    "    return new_seq\n",
    "\n",
    "new_sequence = []\n",
    "for pixel in img_pixels:\n",
    "    new_sequence.append(hamming_7_4(pixel=str(pixel), dict=binary_code))\n",
    "\n"
   ]
  },
  {
   "cell_type": "markdown",
   "metadata": {},
   "source": [
    "### Question 20\n",
    "Simulate the channel effect on the binary image signal with redundancy. Then\n",
    "decode the binary image signal. Display the decoded image signal. What do you\n",
    "notice? Explain your decoding procedure."
   ]
  },
  {
   "cell_type": "code",
   "execution_count": 52,
   "metadata": {},
   "outputs": [],
   "source": [
    "def through_channel_7_4(pixel, dict, p):\n",
    "    \"\"\"\n",
    "    Make a pixel go through a channel (with Hamming (7,4) code correction) with probability of error of p\n",
    "    \n",
    "    Arguments:\n",
    "    ----------\n",
    "    - pixel : grayscale value of the pixel (value between 0 and 255)\n",
    "    - dict : dictionary to convert the pixel into its binary code\n",
    "    - p : the probability of error of the channel\n",
    "    \n",
    "    Return:\n",
    "    -------\n",
    "    - the grayscale pixel value of the input pixel after the channel\n",
    "    \"\"\"\n",
    "    pixel_hamming = hamming_7_4(pixel, dict)\n",
    "    result_after_channel = \"\"\n",
    "    for bit in pixel_hamming:\n",
    "        result_after_channel += flip_bit(bit) if np.random.random(1)[0] < p else bit\n",
    "    final_signal = \"\"\n",
    "    shift = 0\n",
    "    for i in range(2):\n",
    "        signal_bits = result_after_channel[0+shift] + result_after_channel[1+shift] + result_after_channel[2+shift] + result_after_channel[3+shift]\n",
    "        parity_bits = result_after_channel[4+shift] + result_after_channel[5+shift] + result_after_channel[6+shift]\n",
    "        \n",
    "        actual_parity_bits = \"\"\n",
    "        actual_parity_bits += str((int(signal_bits[0]) + int(signal_bits[1]) + int(signal_bits[2]))%2)\n",
    "        actual_parity_bits += str((int(signal_bits[1]) + int(signal_bits[2]) + int(signal_bits[3]))%2)\n",
    "        actual_parity_bits += str((int(signal_bits[0]) + int(signal_bits[2]) + int(signal_bits[3]))%2)\n",
    "\n",
    "        syndrome = str((int(parity_bits[0]) + int(actual_parity_bits[0]))%2) + str((int(parity_bits[1]) + int(actual_parity_bits[1]))%2) + str((int(parity_bits[2]) + int(actual_parity_bits[2]))%2)\n",
    "        if syndrome == \"111\":\n",
    "            signal_bits = signal_bits[:2] + flip_bit(signal_bits[2]) + signal_bits[3]\n",
    "        elif syndrome == \"110\":\n",
    "            signal_bits = signal_bits[0] + flip_bit(signal_bits[1]) + signal_bits[2:]\n",
    "        elif syndrome == \"101\":\n",
    "            signal_bits = flip_bit(signal_bits[0]) + signal_bits[1:]\n",
    "        elif syndrome == \"011\":\n",
    "            signal_bits = signal_bits[:3] + flip_bit(signal_bits[3])\n",
    "        final_signal += signal_bits\n",
    "        shift += 7\n",
    "        \n",
    "    for key in dict:\n",
    "        if dict[key] == final_signal:\n",
    "            return int(key)\n",
    "    return final_signal\n",
    "\n",
    "image_received = []\n",
    "for pixel in img_pixels:\n",
    "    image_received.append(through_channel_7_4(pixel = str(pixel), dict=binary_code, p=p))\n",
    "image_received = np.asarray(image_received)\n",
    "image_received = np.reshape(image_received, (h, w))\n",
    "image_received = Image.fromarray(image_received)\n",
    "image_received.show()\n",
    "if image_received.mode != 'L':\n",
    "    image_received = image_received.convert('L')\n",
    "image_received.save(\"image_Q20.png\")\n",
    "\n"
   ]
  },
  {
   "cell_type": "code",
   "execution_count": 51,
   "metadata": {},
   "outputs": [
    {
     "name": "stdout",
     "output_type": "stream",
     "text": [
      "153\n"
     ]
    }
   ],
   "source": [
    "print(through_channel_7_4(pixel=str(153), dict=binary_code, p=p))"
   ]
  }
 ],
 "metadata": {
  "celltoolbar": "Edit Metadata",
  "colab": {
   "collapsed_sections": [],
   "name": "P2 - Notebook.ipynb",
   "provenance": []
  },
  "interpreter": {
   "hash": "2848f8f0387f294a1715a427a8bcf6c25666d45cc33903dcfc6ee6bb0c16523d"
  },
  "kernelspec": {
   "display_name": "Python 3.9.7 ('ict')",
   "language": "python",
   "name": "python3"
  },
  "language_info": {
   "codemirror_mode": {
    "name": "ipython",
    "version": 3
   },
   "file_extension": ".py",
   "mimetype": "text/x-python",
   "name": "python",
   "nbconvert_exporter": "python",
   "pygments_lexer": "ipython3",
   "version": "3.9.7"
  }
 },
 "nbformat": 4,
 "nbformat_minor": 1
}
