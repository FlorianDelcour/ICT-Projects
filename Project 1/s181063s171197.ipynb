{
 "cells": [
  {
   "cell_type": "markdown",
   "metadata": {
    "deletable": false,
    "editable": false
   },
   "source": [
    "# Project 1 - Information measures\n",
    "\n",
    "The goal of this first project is to get accustomed to the information and uncertainty measures. We ask you to write a brief report (pdf format) collecting your answers to the different questions. All codes must be written in Python inside this Jupyter Notebook. No other code file will be accepted. Note that you can not change the content of locked cells or import any extra Python library than the ones already imported (numpy and pandas)."
   ]
  },
  {
   "cell_type": "markdown",
   "metadata": {
    "deletable": false,
    "editable": false
   },
   "source": [
    "## Implementation\n",
    "\n",
    "In this project, you will need to use information measures to answer several questions. Therefore, in this first part, you are asked to write several functions that implement some of the main measures seen in the first theoretical lectures. Remember that you need to fill in this Jupyter Notebook to answer these questions. Pay particular attention to the required output format of each function."
   ]
  },
  {
   "cell_type": "code",
   "execution_count": 1,
   "metadata": {
    "deletable": false,
    "editable": false
   },
   "outputs": [],
   "source": [
    "# [Locked Cell] You can not import any extra Python library in this Notebook.\n",
    "import numpy as np\n",
    "import pandas as pd"
   ]
  },
  {
   "cell_type": "markdown",
   "metadata": {
    "deletable": false,
    "editable": false
   },
   "source": [
    "### Question 1\n",
    "\n",
    "Write a function entropy that computes the entropy $\\mathcal{H(X)}$ of a random variable $\\mathcal{X}$ from its probability distribution $P_\\mathcal{X} = (p_1, p_2, . . . , p_n)$. Give the mathematical formula that you are using and explain the key parts of your implementation. Intuitively, what is measured by the entropy?"
   ]
  },
  {
   "cell_type": "code",
   "execution_count": 2,
   "metadata": {},
   "outputs": [],
   "source": [
    "def entropy(Px):\n",
    "    \"\"\"\n",
    "    Computes the entropy from the marginal probability distribution. \n",
    "    Arguments:\n",
    "    ----------\n",
    "    - Px :  Marginal probability distribution of the random \n",
    "            variable X in a numpy array where Px[i]=P(X=i)\n",
    "    Return:\n",
    "    -------\n",
    "    - The entropy of X (H(X)) as a number (integer, float or double).\n",
    "    \"\"\"\n",
    "    return - Px @ np.log2(Px, where=(Px!=0)) # Px must be a numpy array otherwise the `where` argument in np.log2 won't correctly work"
   ]
  },
  {
   "cell_type": "markdown",
   "metadata": {
    "deletable": false,
    "editable": false
   },
   "source": [
    "### Question 2\n",
    "\n",
    "Write a function joint_entropy that computes the joint entropy $\\mathcal{H(X,Y)}$ of two discrete random variables $\\mathcal{X}$ and $\\mathcal{Y}$ from the joint probability distribution $P_\\mathcal{X,Y}$. Give the mathematical formula that you are using and explain the key parts of your implementation. Compare the entropy and joint_entropy functions (and their corresponding formulas), what do you notice?"
   ]
  },
  {
   "cell_type": "code",
   "execution_count": 3,
   "metadata": {},
   "outputs": [],
   "source": [
    "def joint_entropy(Pxy):\n",
    "    \"\"\"\n",
    "    Computes the joint entropy from the joint probability distribution.  \n",
    "    Arguments:\n",
    "    ----------\n",
    "    - Pxy:  joint probability distribution of X and Y \n",
    "            in a 2-D numpy array where Pxy[i][j]=P(X=i,Y=j)\n",
    "    Return:\n",
    "    -------\n",
    "    - The joint entropy H(X,Y) as a number (integer, float or double).\n",
    "    \"\"\"\n",
    "    joint_entropy = 0\n",
    "    for i in range(Pxy.shape[0]):\n",
    "         for j in range(Pxy.shape[1]):\n",
    "                 if Pxy[i,j] != 0:\n",
    "                        joint_entropy += Pxy[i,j]*np.log2(Pxy[i,j])\n",
    "    return -joint_entropy"
   ]
  },
  {
   "cell_type": "markdown",
   "metadata": {
    "deletable": false,
    "editable": false
   },
   "source": [
    "### Question 3\n",
    "\n",
    "Write a function conditional_entropy that computes the conditional entropy $\\mathcal{H(X|Y)}$ of a discrete random variable $\\mathcal{X}$ given another discrete random variable $\\mathcal{Y}$ from the joint probability distribution $P_\\mathcal{X,Y}$. Give the mathematical formula that you are using and explain the key parts of your implementation. Describe an equivalent way of computing that quantity."
   ]
  },
  {
   "cell_type": "code",
   "execution_count": 4,
   "metadata": {},
   "outputs": [],
   "source": [
    "def conditional_entropy(Pxy):\n",
    "    \"\"\"\n",
    "    Computes the conditional entropy from the joint probability distribution.\n",
    "    Arguments:\n",
    "    ----------\n",
    "    - Pxy:  joint probability distribution of X and Y \n",
    "            in a 2-D numpy array where Pxy[i][j]=P(X=i,Y=j)\n",
    "    Return:\n",
    "    -------\n",
    "    - The conditional entropy H(X|Y) as a number (integer, float or double)\n",
    "    \"\"\"\n",
    "    conditional_entropy = 0\n",
    "    for i in range(Pxy.shape[0]):\n",
    "            for j in range(Pxy.shape[1]):\n",
    "                    if Pxy[i,j]!=0 and sum(Pxy[:,j])!=0:\n",
    "                        conditional_entropy += Pxy[i,j] * np.log2( Pxy[i,j]/sum(Pxy[:,j]) )\n",
    "    return -conditional_entropy\n",
    "                    "
   ]
  },
  {
   "cell_type": "markdown",
   "metadata": {
    "deletable": false,
    "editable": false
   },
   "source": [
    "### Question 4\n",
    "\n",
    "Write a function mutual_information that computes the mutual information $\\mathcal{I(X;Y)}$ between two discrete random variables $\\mathcal{X}$ and $\\mathcal{Y}$ from the joint probability distribution $P_\\mathcal{X,Y}$ . Give the mathematical formula that you are using and explain the key parts of your implementation. What can you deduce from the mutual information $\\mathcal{I(X;Y)}$ on the relationship between $\\mathcal{X}$ and $\\mathcal{Y}$? Discuss."
   ]
  },
  {
   "cell_type": "code",
   "execution_count": 5,
   "metadata": {},
   "outputs": [],
   "source": [
    "def mutual_information(Pxy):\n",
    "    \"\"\"\n",
    "    Computes the mutual information I(X;Y) from joint probability distribution\n",
    "    \n",
    "    Arguments:\n",
    "    ----------\n",
    "    - Pxy:  joint probability distribution of X and Y \n",
    "            in a 2-D numpy array where Pxy[i][j]=P(X=i,Y=j)\n",
    "    Return:\n",
    "    -------\n",
    "    - The mutual information I(X;Y) as a number (integer, float or double)\n",
    "    \"\"\"\n",
    "    mutual_information = 0\n",
    "    for i in range(Pxy.shape[0]):\n",
    "            for j in range(Pxy.shape[1]):\n",
    "                    marg_Px = sum(Pxy[i,:])\n",
    "                    marg_Py = sum(Pxy[:,j])\n",
    "                    if marg_Px!=0 and marg_Py!=0 and Pxy[i,j]!=0:\n",
    "                            mutual_information += Pxy[i,j] * np.log2(Pxy[i,j]/(marg_Px*marg_Py))\n",
    "    return mutual_information"
   ]
  },
  {
   "cell_type": "markdown",
   "metadata": {
    "deletable": false,
    "editable": false
   },
   "source": [
    "### Question 5\n",
    "\n",
    "Let $\\mathcal{X}$, $\\mathcal{Y}$ and $\\mathcal{Z}$ be three discrete random variables. Write the functions cond_joint_entropy and cond_mutual_information that respectively compute $\\mathcal{H(X,Y|Z)}$ and $\\mathcal{I(X;Y|Z)}$ of two discrete random variable $\\mathcal{X}$, $\\mathcal{Y}$ given another discrete random variable $\\mathcal{Z}$ from their joint probability distribution $P_\\mathcal{X,Y,Z}$. Give the mathematical formulas that you are using and explain the key parts of your implementation.\n",
    "Suggestion: Observe the mathematical definitions of these quantities and think how you could derive them from the joint entropy and the mutual information."
   ]
  },
  {
   "cell_type": "code",
   "execution_count": 6,
   "metadata": {},
   "outputs": [],
   "source": [
    "def cond_joint_entropy(Pxyz):\n",
    "    \"\"\"\n",
    "    Computes the conditional joint entropy of X, Y knowing Z \n",
    "    from the joint probability distribution Pxyz\n",
    "    Arguments:\n",
    "    ----------\n",
    "    - Pxyz: joint probability distribution of X, Y and Z\n",
    "            in a 3-D array where Pxyz[i][j][k]=P(X=i,Y=j,Z=k)\n",
    "    Return:\n",
    "    -------\n",
    "    - The conditional joint entropy H(X,Y|Z) as a number (integer, float or double)\n",
    "    \n",
    "    \"\"\"\n",
    "    cond_joint_entropy = 0\n",
    "    for i in range(Pxyz.shape[0]):\n",
    "            for j in range(Pxyz.shape[1]):\n",
    "                    for k in range(Pxyz.shape[2]):\n",
    "                            marg_Pz = np.sum(Pxyz[:,:,k])\n",
    "                            if marg_Pz!=0 and Pxyz[i,j,k]!=0:\n",
    "                                    cond_joint_entropy += Pxyz[i,j,k] * np.log2(Pxyz[i,j,k]/marg_Pz)\n",
    "    return -cond_joint_entropy"
   ]
  },
  {
   "cell_type": "code",
   "execution_count": 7,
   "metadata": {},
   "outputs": [],
   "source": [
    "def cond_mutual_information(Pxyz):\n",
    "    \"\"\"\n",
    "    Computes the conditional mutual information of X, Y knowing Z \n",
    "    from joint probability distribution Pxyz\n",
    "    Arguments:\n",
    "    ----------\n",
    "    - Pxyz: joint probability distribution of X, Y and Z\n",
    "            in a 3-D array where Pxyz[i][j][k]=P(X=i,Y=j,Z=k)\n",
    "    Return:\n",
    "    -------\n",
    "    - I(X;Y|Z): The conditional joint entropy as a number (integer, float or double)\n",
    "    \n",
    "    \"\"\"\n",
    "    Pxz = np.sum(Pxyz, axis=1)\n",
    "    Pyz = np.sum(Pxyz, axis=0)\n",
    "    return -cond_joint_entropy(Pxyz) + conditional_entropy(Pxz) + conditional_entropy(Pyz)"
   ]
  },
  {
   "cell_type": "code",
   "execution_count": 8,
   "metadata": {
    "deletable": false,
    "editable": false
   },
   "outputs": [],
   "source": [
    "# [Locked Cell] Evaluation of your functions by the examiner. \n",
    "# You don't have access to the evaluation, this will be done by the examiner.\n",
    "# Therefore, this cell will return nothing for the students.\n",
    "import os\n",
    "if os.path.isfile(\"private_evaluation.py\"):\n",
    "    from private_evaluation import unit_tests\n",
    "    unit_tests(entropy, joint_entropy, conditional_entropy, mutual_information, cond_joint_entropy, cond_mutual_information)"
   ]
  },
  {
   "cell_type": "markdown",
   "metadata": {
    "deletable": false,
    "editable": false
   },
   "source": [
    "## Weather forecasting\n",
    "\n",
    "You may create cells below to answer the different questions related to weather forecasting. Unlike in the first part (Implementation), you are free to define as many cells as you need below to answer the different questions. Try to be structured and clear in your code (comment it if necessary). Note that you have to answer the questions in the pdf report, including the numbers you get!"
   ]
  },
  {
   "cell_type": "markdown",
   "metadata": {},
   "source": [
    "Question 6"
   ]
  },
  {
   "cell_type": "code",
   "execution_count": 9,
   "metadata": {},
   "outputs": [
    {
     "name": "stdout",
     "output_type": "stream",
     "text": [
      "temperature         | entropy = 1.5113935187221061  | cardinality = 3                   \n",
      "air_pressure        | entropy = 0.9999971146079947  | cardinality = 2                   \n",
      "same_day_rain       | entropy = 1.475468797174184   | cardinality = 3                   \n",
      "next_day_rain       | entropy = 1.5686562064046452  | cardinality = 3                   \n",
      "relative_humidity   | entropy = 0.9997963972977278  | cardinality = 2                   \n",
      "wind_direction      | entropy = 1.9995507337173037  | cardinality = 4                   \n",
      "wind_speed          | entropy = 1.5848180054843541  | cardinality = 3                   \n",
      "cloud_height        | entropy = 1.5846220675718725  | cardinality = 3                   \n",
      "cloud_density       | entropy = 1.5844638106709676  | cardinality = 3                   \n",
      "month               | entropy = 3.5834131970628738  | cardinality = 12                  \n",
      "day                 | entropy = 2.806398967708293   | cardinality = 7                   \n",
      "daylight            | entropy = 0.9986283124374025  | cardinality = 2                   \n",
      "lightning           | entropy = 0.3249678887742185  | cardinality = 3                   \n",
      "air_quality         | entropy = 0.5358803475890053  | cardinality = 3                   \n",
      "Probability distribution\n",
      "no_lightning    0.9520\n",
      "low             0.0278\n",
      "high            0.0202\n",
      "Name: lightning, dtype: float64\n",
      "bad       0.9078\n",
      "medium    0.0478\n",
      "good      0.0444\n",
      "Name: air_quality, dtype: float64\n"
     ]
    }
   ],
   "source": [
    "df = pd.read_csv(\"weather_data.csv\", sep=\",\")\n",
    "for col in df:\n",
    "    entrop = entropy(df[col].value_counts(normalize=True))\n",
    "    card = len(df[col].value_counts(normalize=True))\n",
    "    #print(col, \" : entropy = \", entrop, \"; cardinality = \", card)\n",
    "    print(f\"{ col :<20}| \" + \"entropy = \" + f\"{entrop:<20}| \" + \"cardinality = \" + f\"{card:<20}\")\n",
    "\n",
    "print(\"Probability distribution\") \n",
    "print(df[\"lightning\"].value_counts(normalize=True))\n",
    "print(df[\"air_quality\"].value_counts(normalize=True))\n"
   ]
  },
  {
   "cell_type": "code",
   "execution_count": 10,
   "metadata": {},
   "outputs": [
    {
     "name": "stdout",
     "output_type": "stream",
     "text": [
      "Maximum entropy with uniform distrib and cardinality =  2  : 1.0\n",
      "Maximum entropy with uniform distrib and cardinality =  3  : 1.584962500721156\n",
      "Maximum entropy with uniform distrib and cardinality =  4  : 2.0\n",
      "Maximum entropy with uniform distrib and cardinality =  7  : 2.8073549220576037\n",
      "Maximum entropy with uniform distrib and cardinality =  12 : 3.584962500721156\n"
     ]
    }
   ],
   "source": [
    "# Maximum entropy (obtained with uniform distribution)\n",
    "for i in [2,3,4,7,12]:\n",
    "    print(\"Maximum entropy with uniform distrib and cardinality = \", f\"{i:<2}\", \":\", entropy(np.ones(i)/i))"
   ]
  },
  {
   "cell_type": "markdown",
   "metadata": {},
   "source": [
    "Question 7"
   ]
  },
  {
   "cell_type": "code",
   "execution_count": 11,
   "metadata": {},
   "outputs": [
    {
     "name": "stdout",
     "output_type": "stream",
     "text": [
      "H(next_day_rain | temperature)         = 1.5681010089559217\n",
      "H(next_day_rain | air_pressure)        = 0.9399751579488524\n",
      "H(next_day_rain | same_day_rain)       = 1.3894855510944033\n",
      "H(next_day_rain | relative_humidity)   = 1.3010552470998942\n",
      "H(next_day_rain | wind_direction)      = 1.567815335514243\n",
      "H(next_day_rain | wind_speed)          = 1.5677670877577965\n",
      "H(next_day_rain | cloud_height)        = 1.5667630289976597\n",
      "H(next_day_rain | cloud_density)       = 1.5665898847425932\n",
      "H(next_day_rain | month)               = 1.564879749222577\n",
      "H(next_day_rain | day)                 = 1.567156809902154\n",
      "H(next_day_rain | daylight)            = 1.5682591876897034\n",
      "H(next_day_rain | lightning)           = 1.5682325748732024\n",
      "H(next_day_rain | air_quality)         = 1.5678811341555414\n"
     ]
    }
   ],
   "source": [
    "for col in df:\n",
    "    if col != \"next_day_rain\":\n",
    "        Pxy = pd.crosstab(df[\"next_day_rain\"], df[col], normalize=True).to_numpy()\n",
    "        cond_ent = conditional_entropy(Pxy)\n",
    "        print(\"H(next_day_rain | \" + f\"{col +')' :<20} = \" + str(cond_ent))\n"
   ]
  },
  {
   "cell_type": "markdown",
   "metadata": {},
   "source": [
    "Question 8"
   ]
  },
  {
   "cell_type": "code",
   "execution_count": 12,
   "metadata": {},
   "outputs": [
    {
     "name": "stdout",
     "output_type": "stream",
     "text": [
      "Mutual information between relative_humidity and wind_speed  = 0.00012439598067303954\n",
      "Mutual information between month and temperature             = 0.5753467937246419\n"
     ]
    }
   ],
   "source": [
    "Pxy = pd.crosstab(df[\"relative_humidity\"], df[\"wind_speed\"], normalize=True).to_numpy()\n",
    "print(f\"{'Mutual information between relative_humidity and wind_speed ' :<60} = \" + str(mutual_information(Pxy)))\n",
    "\n",
    "Pxy = pd.crosstab(df[\"month\"], df[\"temperature\"], normalize=True).to_numpy()\n",
    "print(f\"{'Mutual information between month and temperature ' :<60} = \" + str(mutual_information(Pxy)))\n"
   ]
  },
  {
   "cell_type": "markdown",
   "metadata": {},
   "source": [
    "Question 9"
   ]
  },
  {
   "cell_type": "code",
   "execution_count": 13,
   "metadata": {},
   "outputs": [
    {
     "name": "stdout",
     "output_type": "stream",
     "text": [
      "I(next_day_rain; temperature)         = 0.0005551974487232802\n",
      "I(next_day_rain; air_pressure)        = 0.6286810484557925\n",
      "I(next_day_rain; same_day_rain)       = 0.17917065531024198\n",
      "I(next_day_rain; relative_humidity)   = 0.2676009593047508\n",
      "I(next_day_rain; wind_direction)      = 0.0008408708904022481\n",
      "I(next_day_rain; wind_speed)          = 0.000889118646848536\n",
      "I(next_day_rain; cloud_height)        = 0.0018931774069855228\n",
      "I(next_day_rain; cloud_density)       = 0.0020663216620520324\n",
      "I(next_day_rain; month)               = 0.0037764571820686353\n",
      "I(next_day_rain; day)                 = 0.001499396502491182\n",
      "I(next_day_rain; daylight)            = 0.00039701871494185036\n",
      "I(next_day_rain; lightning)           = 0.0004236315314423574\n",
      "I(next_day_rain; air_quality)         = 0.00077507224910362\n"
     ]
    }
   ],
   "source": [
    "for col in df:\n",
    "    if col != \"next_day_rain\":\n",
    "        Pxy = pd.crosstab(df[\"next_day_rain\"], df[col], normalize=True).to_numpy()\n",
    "        mut_info = mutual_information(Pxy)\n",
    "        print(\"I(next_day_rain; \" + f\"{col +')' :<20} = \" + str(mut_info))"
   ]
  },
  {
   "cell_type": "markdown",
   "metadata": {},
   "source": [
    "Question 10"
   ]
  },
  {
   "cell_type": "code",
   "execution_count": 14,
   "metadata": {},
   "outputs": [
    {
     "name": "stdout",
     "output_type": "stream",
     "text": [
      "H(next_day_rain | temperature)         = 0.9984897673205075   |  I(next_day_rain; temperature)         = 0.0008216756551031133\n",
      "H(next_day_rain | air_pressure)        = 0.9912367657089518   |  I(next_day_rain; air_pressure)        = 0.00807467726665878\n",
      "H(next_day_rain | same_day_rain)       = 0.8412577092300247   |  I(next_day_rain; same_day_rain)       = 0.15805373374558573\n",
      "H(next_day_rain | relative_humidity)   = 0.5601193454280589   |  I(next_day_rain; relative_humidity)   = 0.43919209754755173\n",
      "H(next_day_rain | wind_direction)      = 0.9985380515646349   |  I(next_day_rain; wind_direction)      = 0.0007733914109755396\n",
      "H(next_day_rain | wind_speed)          = 0.998610419155289    |  I(next_day_rain; wind_speed)          = 0.00070102382032141\n",
      "H(next_day_rain | cloud_height)        = 0.9988374633287047   |  I(next_day_rain; cloud_height)        = 0.0004739796469060229\n",
      "H(next_day_rain | cloud_density)       = 0.9990516764718314   |  I(next_day_rain; cloud_density)       = 0.0002597665037792161\n",
      "H(next_day_rain | month)               = 0.9954562259853336   |  I(next_day_rain; month)               = 0.0038552169902771323\n",
      "H(next_day_rain | day)                 = 0.9986744942261498   |  I(next_day_rain; day)                 = 0.0006369487494605887\n",
      "H(next_day_rain | daylight)            = 0.9989647969187383   |  I(next_day_rain; daylight)            = 0.00034664605687229587\n",
      "H(next_day_rain | lightning)           = 0.9988991642417271   |  I(next_day_rain; lightning)           = 0.0004122787338833641\n",
      "H(next_day_rain | air_quality)         = 0.9982338784258233   |  I(next_day_rain; air_quality)         = 0.001077564549787068\n"
     ]
    }
   ],
   "source": [
    "df2 = df[df[\"next_day_rain\"] != \"dry\"]\n",
    "\n",
    "for col in df2:\n",
    "    if col != \"next_day_rain\":\n",
    "        Pxy = pd.crosstab(df[\"next_day_rain\"], df2[col], normalize=True).to_numpy()\n",
    "        cond_ent = conditional_entropy(Pxy)\n",
    "        mut_info = mutual_information(Pxy)\n",
    "        print(\"H(next_day_rain | \" + f\"{col +')' :<20} = \" + f\"{str(cond_ent):<20} | \" + \n",
    "                \" I(next_day_rain; \" + f\"{col +')' :<20} = \" + str(mut_info))"
   ]
  },
  {
   "cell_type": "markdown",
   "metadata": {},
   "source": [
    "Question 11"
   ]
  },
  {
   "cell_type": "code",
   "execution_count": 15,
   "metadata": {},
   "outputs": [
    {
     "name": "stdout",
     "output_type": "stream",
     "text": [
      "H(next_day_rain, air_pressure | T°)        = 1.93860245187694     |  I(next_day_rain, ; air_pressure | T°)        = 0.6294687899897877\n",
      "H(next_day_rain, same_day_rain | T°)       = 2.8628867981094843   |  I(next_day_rain, ; same_day_rain | T°)       = 0.17990196682207582\n",
      "H(next_day_rain, relative_humidity | T°)   = 2.2995737105015377   |  I(next_day_rain, ; relative_humidity | T°)   = 0.267545482715412\n",
      "H(next_day_rain, wind_direction | T°)      = 3.5650901256852205   |  I(next_day_rain, ; wind_direction | T°)      = 0.0016950431837090552\n",
      "H(next_day_rain, wind_speed | T°)          = 3.151429557692598    |  I(next_day_rain, ; wind_speed | T°)          = 0.001222871219935806\n",
      "H(next_day_rain, cloud_height | T°)        = 3.1500677909195143   |  I(next_day_rain, ; cloud_height | T°)        = 0.0024410845558919814\n",
      "H(next_day_rain, cloud_density | T°)       = 3.148829820911224    |  I(next_day_rain, ; cloud_density | T°)       = 0.0032002372741724017\n",
      "H(next_day_rain, month | T°)               = 4.5685318190306905   |  I(next_day_rain, ; month | T°)               = 0.007635593263463303\n",
      "H(next_day_rain, day | T°)                 = 4.368401455406246    |  I(next_day_rain, ; day | T°)                 = 0.004837994275778357\n",
      "H(next_day_rain, daylight | T°)            = 2.565300469753959    |  I(next_day_rain, ; daylight | T°)            = 0.0013954991747586742\n",
      "H(next_day_rain, lightning | T°)           = 1.8206637855558727   |  I(next_day_rain, ; lightning | T°)           = 0.0008819297616984301\n",
      "H(next_day_rain, air_quality | T°)         = 2.043749908540217    |  I(next_day_rain, ; air_quality | T°)         = 0.0015774612683467915\n"
     ]
    }
   ],
   "source": [
    "for col in df2:\n",
    "    if col != \"next_day_rain\" and col != \"temperature\":\n",
    "        Pxyz = pd.crosstab(df[col], [df[\"next_day_rain\"], df[\"temperature\"]], normalize=True).to_numpy().reshape(-1, 3, 3)\n",
    "        cond_ent = cond_joint_entropy(Pxyz)\n",
    "        mut_info = cond_mutual_information(Pxyz)\n",
    "        print(\"H(next_day_rain, \" + f\"{col +' | T°)' :<25} = \" + f\"{str(cond_ent):<20} | \" + \n",
    "                \" I(next_day_rain, ; \" + f\"{col +' | T°)' :<25} = \" + str(mut_info))"
   ]
  },
  {
   "cell_type": "markdown",
   "metadata": {},
   "source": [
    "## Playing with information theory-based strategy"
   ]
  },
  {
   "cell_type": "markdown",
   "metadata": {},
   "source": [
    "Question 12"
   ]
  },
  {
   "cell_type": "code",
   "execution_count": 16,
   "metadata": {},
   "outputs": [
    {
     "name": "stdout",
     "output_type": "stream",
     "text": [
      "Entropy of each of the 5 fields :  4.700439718141093\n",
      "Entropy of the whole game :  23.502198590564696\n"
     ]
    }
   ],
   "source": [
    "prob_distrib = np.ones(26)/26\n",
    "entropy_5_fields = entropy(prob_distrib) # The entropy is identical for each of the 5 fields\n",
    "print(\"Entropy of each of the 5 fields : \", entropy_5_fields)\n",
    "\n",
    "distrib_board = np.ones(26**5)/(26**5)\n",
    "entropy_board = entropy(distrib_board) \n",
    "print(\"Entropy of the whole game : \", entropy_board)"
   ]
  },
  {
   "cell_type": "markdown",
   "metadata": {},
   "source": [
    "Question 13"
   ]
  },
  {
   "cell_type": "code",
   "execution_count": 17,
   "metadata": {},
   "outputs": [
    {
     "name": "stdout",
     "output_type": "stream",
     "text": [
      "Entropy gray fields :  4.459431618637297\n",
      "Entropy green field :  0.0\n",
      "Entropy of the board :  17.837726474551225\n"
     ]
    }
   ],
   "source": [
    "# We know that the A is already placed (but may reappear), and we eliminate the T, B, L and E\n",
    "prob_distrib = np.ones(22)/22\n",
    "entropy_wrong_fields = entropy(prob_distrib)\n",
    "print(\"Entropy gray fields : \", entropy_wrong_fields)\n",
    "\n",
    "entropy_good_field = entropy(np.ones(1))\n",
    "print(\"Entropy green field : \", entropy_good_field)\n",
    "\n",
    "distrib_board = np.ones(22**4) / (22**4)\n",
    "entropy_board = entropy(distrib_board) \n",
    "print(\"Entropy of the board : \", entropy_board)"
   ]
  },
  {
   "cell_type": "markdown",
   "metadata": {},
   "source": [
    "Question 14"
   ]
  },
  {
   "cell_type": "code",
   "execution_count": 33,
   "metadata": {},
   "outputs": [
    {
     "name": "stdout",
     "output_type": "stream",
     "text": [
      "Entropy of fields 1, 3 and 5 :  3.6432710615547155\n",
      "Entropy of field 4 :  4.087462841250339\n",
      "Entropy of the whole board :  13.931383892539227\n",
      "Sum of entropies of fields :  15.017276025914486  vs entropy of game :  13.931383892539227\n"
     ]
    }
   ],
   "source": [
    "# The G has 1/3 proba to be in each cell except the 2nd and the 4th because we know it is in the board but we don't know exactly in each \n",
    "# of the remaining cell\n",
    "# The 4th cell can't contain neither A or G\n",
    "# R,O,U,H are deleted also\n",
    "prob_distrib_1_3_5 = np.ones(18) * ((2/3)/17) #2/3 because there is already a 1/3 proba that the G is there (for the first, third and fifth cells)\n",
    "prob_distrib_1_3_5[0] = 1/3\n",
    "entropy_1_3_5 = entropy(prob_distrib_1_3_5/np.sum(prob_distrib_1_3_5))\n",
    "print(\"Entropy of fields 1, 3 and 5 : \", entropy_1_3_5)\n",
    "\n",
    "# for the 2nd cell the entropy is once again 0\n",
    "# for the 4th cell we know that we can't have a G\n",
    "prob_distrib_4 = np.ones(17)/17 \n",
    "\n",
    "entropy_4 = entropy(prob_distrib_4)\n",
    "print(\"Entropy of field 4 : \", entropy_4)\n",
    "\n",
    "################### !!!!!!!!!!!!!!!!!!!!!!!!!!!!!!!!!!!!!\n",
    "# in the combinations, the first factor represents the G (if there is only 1 G, there is 3 possible ways in which it can be in the word, if there is 2 there is 3 possible ways also)\n",
    "# the second factor represents the cells where the G is not, if there is 2 cells in which the G is not there is 17**2 possible combinations of the 17 remaining letters\n",
    "# the third factor is the 4th cell, which can contain the 17 remaining letters\n",
    "combinations_1G = 3 * 17**2 * 17\n",
    "combinations_2G = 3 * 17 * 17\n",
    "combinations_3G = 1 * 1 * 17\n",
    "prob_distrib_game = np.ones(combinations_1G+combinations_2G+combinations_3G)/(combinations_1G+combinations_2G+combinations_3G)\n",
    "entropy_game = entropy(prob_distrib_game)\n",
    "print(\"Entropy of the whole board : \", entropy_game)\n",
    "print(\"Sum of entropies of fields : \", 3*entropy_1_3_5 + entropy_4, \" vs entropy of game : \", entropy_game)\n"
   ]
  }
 ],
 "metadata": {
  "kernelspec": {
   "display_name": "Python 3",
   "language": "python",
   "name": "python3"
  },
  "language_info": {
   "codemirror_mode": {
    "name": "ipython",
    "version": 3
   },
   "file_extension": ".py",
   "mimetype": "text/x-python",
   "name": "python",
   "nbconvert_exporter": "python",
   "pygments_lexer": "ipython3",
   "version": "3.9.7"
  }
 },
 "nbformat": 4,
 "nbformat_minor": 4
}
